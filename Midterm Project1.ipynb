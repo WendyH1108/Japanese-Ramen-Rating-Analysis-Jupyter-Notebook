{
 "cells": [
  {
   "cell_type": "markdown",
   "metadata": {},
   "source": [
    "### Netid: al2473 & yh374"
   ]
  },
  {
   "cell_type": "code",
   "execution_count": 2,
   "metadata": {},
   "outputs": [],
   "source": [
    "import numpy as np\n",
    "import pandas as pd\n",
    "import matplotlib.pyplot as plt\n",
    "import seaborn as sns"
   ]
  },
  {
   "cell_type": "code",
   "execution_count": 3,
   "metadata": {},
   "outputs": [],
   "source": [
    "df = pd.read_csv('ramen-ratings.csv')"
   ]
  },
  {
   "cell_type": "markdown",
   "metadata": {},
   "source": [
    "#### Link to dataset on Kaggle: https://www.kaggle.com/residentmario/ramen-ratings/data\n",
    "#### Zip File Download: https://www.kaggle.com/residentmario/ramen-ratings/download"
   ]
  },
  {
   "cell_type": "markdown",
   "metadata": {},
   "source": [
    "## Question: Is there a relationship between the way instant ramen is presented and the rating of stars received in Japan?"
   ]
  },
  {
   "cell_type": "markdown",
   "metadata": {},
   "source": [
    "#### Context: Ramen is presented in many different ways. It can be presented in a cup, bowl, pack, or tray. This data visualization project seeks to graphically understand whether or not there is a relationship between ramen being displayed in a cup, bowl, pack, or tray with the number of stars received for Japanese instant ramen.\n",
    "\n",
    "#### Hypothesis: The ramen presented in a bowl and cup will receive higher ratings than the ramen packaged in a pack or tray, because the bowl and cup packaging might feel closer to the way ramen is served at a restaurant or store. On the other hand, the experience of eating ramen from a pack or tray might feel 'cheaper' or less luxurious, hence, leading to a lower rating than it would get if packaged in a bowl or cup.\n"
   ]
  },
  {
   "cell_type": "markdown",
   "metadata": {},
   "source": [
    "\n",
    "## Data Manipulation and Preprocessing"
   ]
  },
  {
   "cell_type": "code",
   "execution_count": 23,
   "metadata": {},
   "outputs": [
    {
     "data": {
      "text/html": [
       "<div>\n",
       "<style scoped>\n",
       "    .dataframe tbody tr th:only-of-type {\n",
       "        vertical-align: middle;\n",
       "    }\n",
       "\n",
       "    .dataframe tbody tr th {\n",
       "        vertical-align: top;\n",
       "    }\n",
       "\n",
       "    .dataframe thead th {\n",
       "        text-align: right;\n",
       "    }\n",
       "</style>\n",
       "<table border=\"1\" class=\"dataframe\">\n",
       "  <thead>\n",
       "    <tr style=\"text-align: right;\">\n",
       "      <th></th>\n",
       "      <th>Review #</th>\n",
       "      <th>Brand</th>\n",
       "      <th>Variety</th>\n",
       "      <th>Style</th>\n",
       "      <th>Country</th>\n",
       "      <th>Stars</th>\n",
       "      <th>Top Ten</th>\n",
       "    </tr>\n",
       "  </thead>\n",
       "  <tbody>\n",
       "    <tr>\n",
       "      <th>0</th>\n",
       "      <td>2580</td>\n",
       "      <td>New Touch</td>\n",
       "      <td>T's Restaurant Tantanmen</td>\n",
       "      <td>Cup</td>\n",
       "      <td>Japan</td>\n",
       "      <td>3.75</td>\n",
       "      <td>NaN</td>\n",
       "    </tr>\n",
       "    <tr>\n",
       "      <th>6</th>\n",
       "      <td>2574</td>\n",
       "      <td>Acecook</td>\n",
       "      <td>Spice Deli Tantan Men With Cilantro</td>\n",
       "      <td>Cup</td>\n",
       "      <td>Japan</td>\n",
       "      <td>4</td>\n",
       "      <td>NaN</td>\n",
       "    </tr>\n",
       "    <tr>\n",
       "      <th>7</th>\n",
       "      <td>2573</td>\n",
       "      <td>Ikeda Shoku</td>\n",
       "      <td>Nabeyaki Kitsune Udon</td>\n",
       "      <td>Tray</td>\n",
       "      <td>Japan</td>\n",
       "      <td>3.75</td>\n",
       "      <td>NaN</td>\n",
       "    </tr>\n",
       "    <tr>\n",
       "      <th>8</th>\n",
       "      <td>2572</td>\n",
       "      <td>Ripe'n'Dry</td>\n",
       "      <td>Hokkaido Soy Sauce Ramen</td>\n",
       "      <td>Pack</td>\n",
       "      <td>Japan</td>\n",
       "      <td>0.25</td>\n",
       "      <td>NaN</td>\n",
       "    </tr>\n",
       "    <tr>\n",
       "      <th>13</th>\n",
       "      <td>2567</td>\n",
       "      <td>Nissin</td>\n",
       "      <td>Deka Buto Kimchi Pork Flavor</td>\n",
       "      <td>Bowl</td>\n",
       "      <td>Japan</td>\n",
       "      <td>4.5</td>\n",
       "      <td>NaN</td>\n",
       "    </tr>\n",
       "  </tbody>\n",
       "</table>\n",
       "</div>"
      ],
      "text/plain": [
       "    Review #        Brand                              Variety Style Country  \\\n",
       "0       2580    New Touch            T's Restaurant Tantanmen    Cup   Japan   \n",
       "6       2574      Acecook  Spice Deli Tantan Men With Cilantro   Cup   Japan   \n",
       "7       2573  Ikeda Shoku                Nabeyaki Kitsune Udon  Tray   Japan   \n",
       "8       2572   Ripe'n'Dry             Hokkaido Soy Sauce Ramen  Pack   Japan   \n",
       "13      2567       Nissin         Deka Buto Kimchi Pork Flavor  Bowl   Japan   \n",
       "\n",
       "   Stars Top Ten  \n",
       "0   3.75     NaN  \n",
       "6      4     NaN  \n",
       "7   3.75     NaN  \n",
       "8   0.25     NaN  \n",
       "13   4.5     NaN  "
      ]
     },
     "execution_count": 23,
     "metadata": {},
     "output_type": "execute_result"
    }
   ],
   "source": [
    "#Getting the data from ramen specifically from Japan\n",
    "japan=df.loc[(df['Country']=='Japan')]\n",
    "japan.head()"
   ]
  },
  {
   "cell_type": "code",
   "execution_count": 24,
   "metadata": {},
   "outputs": [
    {
     "data": {
      "text/html": [
       "<div>\n",
       "<style scoped>\n",
       "    .dataframe tbody tr th:only-of-type {\n",
       "        vertical-align: middle;\n",
       "    }\n",
       "\n",
       "    .dataframe tbody tr th {\n",
       "        vertical-align: top;\n",
       "    }\n",
       "\n",
       "    .dataframe thead th {\n",
       "        text-align: right;\n",
       "    }\n",
       "</style>\n",
       "<table border=\"1\" class=\"dataframe\">\n",
       "  <thead>\n",
       "    <tr style=\"text-align: right;\">\n",
       "      <th></th>\n",
       "      <th>Country</th>\n",
       "      <th>Cup</th>\n",
       "      <th>Bowl</th>\n",
       "      <th>Pack</th>\n",
       "      <th>Tray</th>\n",
       "      <th>Rating</th>\n",
       "    </tr>\n",
       "  </thead>\n",
       "  <tbody>\n",
       "    <tr>\n",
       "      <th>0</th>\n",
       "      <td>Japan</td>\n",
       "      <td>True</td>\n",
       "      <td>False</td>\n",
       "      <td>False</td>\n",
       "      <td>False</td>\n",
       "      <td>3.75</td>\n",
       "    </tr>\n",
       "    <tr>\n",
       "      <th>6</th>\n",
       "      <td>Japan</td>\n",
       "      <td>True</td>\n",
       "      <td>False</td>\n",
       "      <td>False</td>\n",
       "      <td>False</td>\n",
       "      <td>4</td>\n",
       "    </tr>\n",
       "    <tr>\n",
       "      <th>7</th>\n",
       "      <td>Japan</td>\n",
       "      <td>False</td>\n",
       "      <td>False</td>\n",
       "      <td>False</td>\n",
       "      <td>True</td>\n",
       "      <td>3.75</td>\n",
       "    </tr>\n",
       "    <tr>\n",
       "      <th>8</th>\n",
       "      <td>Japan</td>\n",
       "      <td>False</td>\n",
       "      <td>False</td>\n",
       "      <td>True</td>\n",
       "      <td>False</td>\n",
       "      <td>0.25</td>\n",
       "    </tr>\n",
       "    <tr>\n",
       "      <th>13</th>\n",
       "      <td>Japan</td>\n",
       "      <td>False</td>\n",
       "      <td>True</td>\n",
       "      <td>False</td>\n",
       "      <td>False</td>\n",
       "      <td>4.5</td>\n",
       "    </tr>\n",
       "  </tbody>\n",
       "</table>\n",
       "</div>"
      ],
      "text/plain": [
       "   Country    Cup   Bowl   Pack   Tray Rating\n",
       "0    Japan   True  False  False  False   3.75\n",
       "6    Japan   True  False  False  False      4\n",
       "7    Japan  False  False  False   True   3.75\n",
       "8    Japan  False  False   True  False   0.25\n",
       "13   Japan  False   True  False  False    4.5"
      ]
     },
     "execution_count": 24,
     "metadata": {},
     "output_type": "execute_result"
    }
   ],
   "source": [
    "#Making new dataset with columns as: country, way ramen is presented, and ratings\n",
    "df_filtered = pd.DataFrame({\n",
    "                    'Country': japan['Country'],\n",
    "                    'Cup': (japan['Style']=='Cup'),\n",
    "                    'Bowl':(japan['Style']=='Bowl'),\n",
    "                    'Pack':(japan['Style']=='Pack'),\n",
    "                    'Tray':(japan['Style']=='Tray'),\n",
    "                    'Rating':japan['Stars'],\n",
    "                   })\n",
    "\n",
    "df_cup=df_filtered.loc[(df_filtered['Cup']==True)]\n",
    "df_bowl=df_filtered.loc[(df_filtered['Bowl']==True)]\n",
    "df_pack=df_filtered.loc[(df_filtered['Pack']==True)]\n",
    "df_tray=df_filtered.loc[(df_filtered['Tray']==True)]\n",
    "\n",
    "df_filtered.head()"
   ]
  },
  {
   "cell_type": "markdown",
   "metadata": {},
   "source": [
    "## Data Visualization"
   ]
  },
  {
   "cell_type": "markdown",
   "metadata": {},
   "source": [
    "### Bar Graph"
   ]
  },
  {
   "cell_type": "code",
   "execution_count": 25,
   "metadata": {},
   "outputs": [
    {
     "data": {
      "image/png": "[encoded data removed]",
      "text/plain": [
       "<Figure size 432x288 with 1 Axes>"
      ]
     },
     "metadata": {},
     "output_type": "display_data"
    }
   ],
   "source": [
    "bar1 =(pd.to_numeric(df_cup['Rating']).mean())\n",
    "bar2 =(pd.to_numeric(df_bowl['Rating']).mean())\n",
    "bar3 =(pd.to_numeric(df_pack['Rating']).mean())\n",
    "bar4 =(pd.to_numeric(df_tray['Rating']).mean())\n",
    "\n",
    "plt.bar([0,1,2,3],[bar1,bar2,bar3,bar4],align='center')\n",
    "plt.title('Average Rating for Different Ramen Presentation')\n",
    "plt.xticks([0,1,2,3],['cup','bowl','pack','tray'])\n",
    "plt.ylabel('Average Rating (Stars)')\n",
    "plt.show()"
   ]
  },
  {
   "cell_type": "markdown",
   "metadata": {},
   "source": [
    "### Inference from Bar Graph\n",
    "#### The bar chart shows that the ramen presented in a tray has the highest average rating at approximately 4.7 stars. The bowl received the second highest average rating at around 4.1 stars, cup came third in rating at approximately 3.9 stars, and pack came last in rating at around 3.7 stars. Through this bar chart, we can come to the inference that instant ramen packaged in trays have the highest average rating and ramen packaged in packs have the lowest rating. This deviates from what was written in the original hypothesis, since trays have the highest average rating rather than a lower average rating. The rest of the bar chart shows a trend similar to what is written in the hypothesis, in which it is claimed that bowl and cup will have a higher rating than pack. However, we cannot come to the conclusion that any ramen packaged in a tray will have a higher rating than if it were to be packaged in a bowl, cup, or pack, since this bar graph does not take into account the other factors of determining ramen rating, such as flavor, brand, etc. \n"
   ]
  },
  {
   "cell_type": "markdown",
   "metadata": {},
   "source": [
    "### Correlation Plot"
   ]
  },
  {
   "cell_type": "code",
   "execution_count": 26,
   "metadata": {},
   "outputs": [],
   "source": [
    "\n",
    "df_filtered['Rating'] = pd.to_numeric(df_filtered['Rating'])"
   ]
  },
  {
   "cell_type": "code",
   "execution_count": 27,
   "metadata": {},
   "outputs": [
    {
     "data": {
      "image/png": "[encoded data removed]",
      "text/plain": [
       "<Figure size 432x288 with 2 Axes>"
      ]
     },
     "metadata": {},
     "output_type": "display_data"
    }
   ],
   "source": [
    "# get the correlation matrix\n",
    "corr = df_filtered.corr()\n",
    "\n",
    "#print(japan)\n",
    "#print(corr)\n",
    "\n",
    "\n",
    "fig = plt.figure()\n",
    "ax = fig.add_subplot(111)\n",
    "ax.matshow(corr)\n",
    "\n",
    "fig.colorbar(ax.matshow(corr, cmap='RdBu', vmin=-1, vmax=1))\n",
    "\n",
    "ax.set_xticks(range(len(corr.columns)))\n",
    "ax.set_xticklabels(corr.columns)\n",
    "for tick in ax.get_xticklabels():\n",
    "        tick.set_rotation(45)\n",
    "\n",
    "ax.set_yticks(range(len(corr.columns)))\n",
    "ax.set_yticklabels(corr.columns)\n",
    "\n",
    "plt.show()"
   ]
  },
  {
   "cell_type": "markdown",
   "metadata": {},
   "source": [
    "### Inference from Correlation Plot\n",
    "\n",
    "#### This correlation plot shows that there is no correlation between cup and rating (0.00), some correlation between bowl or tray and rating (0.25), and a slightly negative correlation between rating and pack(-0.25). This correlation plot shows that there is a relatively weak correlation overall between rating and type of presentation for the ramen. However, it does provide us with further information regarding correlations that the bar graph is not able to present. From the bar graph, it is easy to assume that there might be a relative correlation between the different packaging methods and overall average rating. However, this correlation plot reveals that assumption may not be completely true, since the plot is showing relatively lower correlations. As an extra note, although the research question is focused on specifically the presentation of ramen and ratings, it is interesting to note that there is a highly negative correlation between bowl and pack (-0.75), which means that there is an inverse relationship between the pack and bowl packaging. "
   ]
  }
 ],
 "metadata": {
  "kernelspec": {
   "display_name": "Python 3",
   "language": "python",
   "name": "python3"
  },
  "language_info": {
   "codemirror_mode": {
    "name": "ipython",
    "version": 3
   },
   "file_extension": ".py",
   "mimetype": "text/x-python",
   "name": "python",
   "nbconvert_exporter": "python",
   "pygments_lexer": "ipython3",
   "version": "3.6.8"
  }
 },
 "nbformat": 4,
 "nbformat_minor": 2
}
